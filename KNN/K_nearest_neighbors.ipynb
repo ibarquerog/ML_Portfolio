{
  "cells": [
    {
      "cell_type": "markdown",
      "id": "NQ4uf5TuS2eV",
      "metadata": {
        "id": "NQ4uf5TuS2eV"
      },
      "source": [
        "# Implementación matricial del algoritmo K-NN usando Pytorch."
      ]
    },
    {
      "cell_type": "markdown",
      "id": "PlbdFW5a4XM_",
      "metadata": {
        "id": "PlbdFW5a4XM_"
      },
      "source": [
        "## Imports"
      ]
    },
    {
      "cell_type": "code",
      "execution_count": null,
      "id": "6b360f85",
      "metadata": {
        "id": "6b360f85"
      },
      "outputs": [],
      "source": [
        "from __future__ import print_function\n",
        "import argparse\n",
        "import torch\n",
        "import torch.nn as nn\n",
        "import torch.nn.functional as F\n",
        "import torch.optim as optim\n",
        "import numpy as np;\n",
        "import pandas as pandas;\n",
        "from scipy import ndimage\n",
        "from torchvision import datasets, transforms\n",
        "from torch.distributions import normal\n",
        "from torch.distributions import multivariate_normal\n",
        "import matplotlib.pyplot as plt\n",
        "import time\n",
        "# torch.set_printoptions(profile=\"full\") # descomentar para ver todos los datos en el print.\n",
        "from sklearn.model_selection import train_test_split"
      ]
    },
    {
      "cell_type": "markdown",
      "id": "whxCSg2LYuoS",
      "metadata": {
        "id": "whxCSg2LYuoS"
      },
      "source": [
        "### Implementation of Euclidean Distance."
      ]
    },
    {
      "cell_type": "code",
      "execution_count": null,
      "id": "JxGSzyKz73wB",
      "metadata": {
        "id": "JxGSzyKz73wB"
      },
      "outputs": [],
      "source": [
        "def cal_euclidean_distance(x, data, observ):\n",
        "  # Obtain the value from training data.\n",
        "  neighbor = data[x]\n",
        "\n",
        "  # Calculate the distance.\n",
        "  difference = (neighbor - observ)\n",
        "  difference = difference**2\n",
        "  difference = difference.sum()\n",
        "  distance = torch.sqrt(difference)\n",
        "  # Return the distance.\n",
        "  return distance"
      ]
    },
    {
      "cell_type": "markdown",
      "id": "jkFOJZZtY3sD",
      "metadata": {
        "id": "jkFOJZZtY3sD"
      },
      "source": [
        "### Implementation of Manhattan Distance."
      ]
    },
    {
      "cell_type": "code",
      "execution_count": null,
      "id": "j8IAn-GurvcD",
      "metadata": {
        "id": "j8IAn-GurvcD"
      },
      "outputs": [],
      "source": [
        "def cal_manhattan_distance(x, data, observ):\n",
        "  # Obtain the value from training data.\n",
        "  neighbor = data[x]\n",
        "\n",
        "  # Calculate the distance.\n",
        "  distance = torch.sum(torch.abs(neighbor - observ))\n",
        "  # Return the distance.\n",
        "  return distance"
      ]
    },
    {
      "cell_type": "markdown",
      "id": "WibawbwE-l4G",
      "metadata": {
        "id": "WibawbwE-l4G"
      },
      "source": [
        "### Scripts for testing"
      ]
    },
    {
      "cell_type": "code",
      "execution_count": null,
      "id": "zOZK2Qwi-vE-",
      "metadata": {
        "colab": {
          "base_uri": "https://localhost:8080/"
        },
        "id": "zOZK2Qwi-vE-",
        "outputId": "b293b0a3-c830-416b-bdc5-fe77300cae70"
      },
      "outputs": [
        {
          "name": "stdout",
          "output_type": "stream",
          "text": [
            "Distancia euclidiana: tensor(1.4142)\n",
            "Distancia Manhattan: tensor(2)\n"
          ]
        }
      ],
      "source": [
        "print(\"Distancia euclidiana:\", cal_euclidean_distance(0, torch.tensor([[3,5], [4, 6]]), torch.tensor([2, 4])))\n",
        "print(\"Distancia Manhattan:\", cal_manhattan_distance(0, torch.tensor([[3,5], [4, 6]]), torch.tensor([2, 4])))"
      ]
    },
    {
      "cell_type": "markdown",
      "id": "AbTDxTPLA1kR",
      "metadata": {
        "id": "AbTDxTPLA1kR"
      },
      "source": [
        "### Get a label based in an observation using KNN."
      ]
    },
    {
      "cell_type": "code",
      "execution_count": null,
      "id": "e8a52c67",
      "metadata": {
        "id": "e8a52c67"
      },
      "outputs": [],
      "source": [
        "def evaluate_k_nearest_neighbors_observation(data_training, labels_training, test_observation, K = 3, is_euclidian = True):\n",
        "\n",
        "  # Generar una lista con los indices del dataset.\n",
        "  indexs = list(range(0, len(data_training), 1))\n",
        "  distances = torch.tensor(indexs)\n",
        "  # Aplicar la distancia euclidiana o manhattan a cada indice del dataset.\n",
        "  if is_euclidian:\n",
        "    # Calcular distancia euclidiana\n",
        "    distances = distances.apply_(lambda x: cal_euclidean_distance(x, data_training, test_observation))\n",
        "  else:\n",
        "    # Calcular distancia manhattan.\n",
        "    distances = distances.apply_(lambda x: cal_manhattan_distance(x, data_training, test_observation))\n",
        "\n",
        "  # Cambiar la orientación de la lista de vector fila a vector columna.\n",
        "  distances = distances.reshape(-1,1)\n",
        "\n",
        "  # Concatenar las distancias con los labels.\n",
        "  distances = torch.cat((distances, labels_training), 1)\n",
        "\n",
        "  # Ordenar las distancias.\n",
        "  distances_sorted = distances[distances[:, 0].sort()[1]]\n",
        "\n",
        "  # Seleccionar los K vecinos más cercanos.\n",
        "  neighbors = distances_sorted[:K, 1]\n",
        "\n",
        "  # Evaluar si es 0 o 1, la etiqueta final.\n",
        "  if(torch.sum(neighbors) >= K//2 + 1):\n",
        "    return 1\n",
        "  else:\n",
        "    return 0\n"
      ]
    },
    {
      "cell_type": "markdown",
      "id": "2xiXm6KPBOMX",
      "metadata": {
        "id": "2xiXm6KPBOMX"
      },
      "source": [
        "### Testing script for ``` evaluate_k_nearest_neighbors_observation ```\n",
        "\n"
      ]
    },
    {
      "cell_type": "code",
      "execution_count": null,
      "id": "y314LX8JBNN3",
      "metadata": {
        "colab": {
          "base_uri": "https://localhost:8080/"
        },
        "id": "y314LX8JBNN3",
        "outputId": "33cf5e71-f6d1-426b-dc76-eaef6fd6fcbb"
      },
      "outputs": [
        {
          "name": "stdout",
          "output_type": "stream",
          "text": [
            "Prediccion 1\n"
          ]
        }
      ],
      "source": [
        "data_training  = torch.tensor([[4, 5], [6, 7], [5,6], [5, 7], [3, 5], [3, 4]])\n",
        "labels_training = torch.tensor([0, 1, 1, 1, 0, 0])\n",
        "\n",
        "labels_training = labels_training.reshape(-1, 1)\n",
        "observ = torch.tensor([5,5])\n",
        "res = evaluate_k_nearest_neighbors_observation(data_training, labels_training, observ, 3, True)\n",
        "print(\"Prediccion\", res)"
      ]
    },
    {
      "cell_type": "code",
      "execution_count": null,
      "id": "5BwQSmKPZeuo",
      "metadata": {
        "id": "5BwQSmKPZeuo"
      },
      "outputs": [],
      "source": [
        "def evaluate_k_nearest_neighbors_test_dataset(data_training, labels_training, test_dataset, K = 3, is_euclidian = True):\n",
        "    # Lista final de labels predecidos.\n",
        "    list_labels = []\n",
        "    # Predecir cada observación.\n",
        "    for obser in test_dataset:\n",
        "      label = evaluate_k_nearest_neighbors_observation(data_training, labels_training, obser, K, is_euclidian)\n",
        "      list_labels.append(label)\n",
        "    # Convertir a vector fila.\n",
        "    labels = torch.tensor(list_labels).reshape(-1, 1)\n",
        "    return labels"
      ]
    },
    {
      "cell_type": "code",
      "execution_count": null,
      "id": "87sn4qd-aSdy",
      "metadata": {
        "id": "87sn4qd-aSdy"
      },
      "outputs": [],
      "source": [
        "def calculate_hit_rate(estimates, labels):\n",
        "  # Comparar cada fila para saber si son iguales.\n",
        "  labels_eq = torch.eq(estimates, labels)\n",
        "\n",
        "  # Convertir los booleanos a enteros.\n",
        "  labels_eq = labels_eq.bool().int()\n",
        "\n",
        "  # Sumar todos.\n",
        "  total_hits = torch.sum(labels_eq)\n",
        "\n",
        "\n",
        "  # Calcular la cantidad de aciertos, para ellos se saca la cantidad de iguales y se divide entre el tamaño de la muestra.\n",
        "  hit_rate = total_hits / len(estimates)\n",
        "\n",
        "  return hit_rate * 100"
      ]
    },
    {
      "cell_type": "markdown",
      "id": "5e19d7e4",
      "metadata": {
        "id": "5e19d7e4"
      },
      "source": [
        "## Artificial dataset\n"
      ]
    },
    {
      "cell_type": "code",
      "execution_count": null,
      "id": "44e79425",
      "metadata": {
        "id": "44e79425"
      },
      "outputs": [],
      "source": [
        "  # Creates the data to be used for training, using a GMM distribution\n",
        "'''\n",
        "@param numberSamplesPerClass, the number of samples per class\n",
        "@param mean1, means for samples from the class 1\n",
        "@param mean2, means for samples from the class 2\n",
        "@param stds1, standard deviation for samples, class 1\n",
        "@param stds2, standard deviation for samples, class 2\n",
        "'''\n",
        "\n",
        "def createData(numberSamplesPerClass = 2000, mean1 = [12, 12], mean2 = [15, 15], stds1 = [3, 3], stds2 = [2, 2]):\n",
        "    means = torch.zeros(2)\n",
        "\n",
        "    # Ones to concatenate for bias\n",
        "    ones = torch.ones(numberSamplesPerClass, 1)\n",
        "    means[0] = mean1[0]\n",
        "    means[1] = mean1[1]\n",
        "\n",
        "    # Covariance matrix creation with identity\n",
        "    covarianceMatrix = torch.eye(2)\n",
        "    covarianceMatrix[0, 0] = stds1[0]\n",
        "    covarianceMatrix[1, 1] = stds1[1]\n",
        "\n",
        "    samplesClass1 = createDataOneClass(means, covarianceMatrix, numberSamplesPerClass)\n",
        "    means[0] = mean2[0]\n",
        "    means[1] = mean2[1]\n",
        "    covarianceMatrix[0, 0] = stds2[0]\n",
        "    covarianceMatrix[1, 1] = stds2[1]\n",
        "\n",
        "    samplesClass2 = createDataOneClass(means, covarianceMatrix, numberSamplesPerClass)\n",
        "\n",
        "\n",
        "    # Concatenates the ones for the bias\n",
        "    samplesClass1Bias = torch.cat((ones, samplesClass1), 1)\n",
        "    samplesClass2Bias = torch.cat((ones, samplesClass2), 1)\n",
        "    samplesAll = torch.cat((samplesClass1, samplesClass2), 0)\n",
        "\n",
        "    plt.scatter(samplesClass1[:, 0], samplesClass1[:, 1])\n",
        "    plt.scatter(samplesClass2[:, 0], samplesClass2[:, 1], marker = 'x')\n",
        "    plt.title(\"Scatter plot from Dataset generated\")\n",
        "    plt.show()\n",
        "\n",
        "    #Create samples without bias\n",
        "    samplesAll = torch.cat((samplesClass1, samplesClass2), 0)\n",
        "\n",
        "    #Create targets\n",
        "    targetsClass1 = torch.ones(numberSamplesPerClass, 1)\n",
        "    targetsClass2 = torch.zeros(numberSamplesPerClass, 1)\n",
        "    targetsAll = torch.cat((targetsClass1, targetsClass2), 0)\n",
        "\n",
        "    return (targetsAll, samplesAll)\n",
        "\n",
        "# Creates data with gaussian distribution\n",
        "def createDataOneClass(means, covarianceMatrix, numberSamples):\n",
        "\n",
        "    # Inits the bi gaussian data generator\n",
        "    multiGaussGenerator = multivariate_normal.MultivariateNormal(means, covarianceMatrix)\n",
        "\n",
        "    # Takes the samples\n",
        "    samples = multiGaussGenerator.sample(torch.Size([numberSamples]))\n",
        "\n",
        "    return samples"
      ]
    },
    {
      "cell_type": "code",
      "execution_count": null,
      "id": "SpXAztL9TAau",
      "metadata": {
        "colab": {
          "base_uri": "https://localhost:8080/",
          "height": 299
        },
        "id": "SpXAztL9TAau",
        "outputId": "8bbc439a-1617-49dd-fd6c-eb242a8bc048"
      },
      "outputs": [
        {
          "data": {
            "image/png": "[encoded data removed]",
            "text/plain": [
              "<Figure size 432x288 with 1 Axes>"
            ]
          },
          "metadata": {
            "needs_background": "light"
          },
          "output_type": "display_data"
        },
        {
          "name": "stdout",
          "output_type": "stream",
          "text": [
            "tensor([6.2165, 8.2615])\n"
          ]
        }
      ],
      "source": [
        "(all_labels, all_samples) = createData(numberSamplesPerClass = 200, mean1 = [6,6], mean2 = [10, 10], stds1 = [3, 3], stds2 = [2, 2])\n",
        "print(all_samples[0])"
      ]
    },
    {
      "cell_type": "code",
      "execution_count": null,
      "id": "GQfyhLyE7s1D",
      "metadata": {
        "colab": {
          "base_uri": "https://localhost:8080/",
          "height": 281
        },
        "id": "GQfyhLyE7s1D",
        "outputId": "878f9a9f-d855-42a1-f3f0-23447ace819e"
      },
      "outputs": [
        {
          "data": {
            "image/png": "[encoded data removed]",
            "text/plain": [
              "<Figure size 432x288 with 1 Axes>"
            ]
          },
          "metadata": {
            "needs_background": "light"
          },
          "output_type": "display_data"
        }
      ],
      "source": [
        "(all_labels, all_samples) = createData(numberSamplesPerClass = 200, mean1 = [6,6], mean2 = [14, 14], stds1 = [5, 5], stds2 = [3, 3])"
      ]
    },
    {
      "cell_type": "code",
      "execution_count": null,
      "id": "BOfW2lOeBuyY",
      "metadata": {
        "colab": {
          "base_uri": "https://localhost:8080/",
          "height": 281
        },
        "id": "BOfW2lOeBuyY",
        "outputId": "91266e39-a56f-45f4-bafc-76713891d7b6"
      },
      "outputs": [
        {
          "data": {
            "image/png": "[encoded data removed]",
            "text/plain": [
              "<Figure size 432x288 with 1 Axes>"
            ]
          },
          "metadata": {
            "needs_background": "light"
          },
          "output_type": "display_data"
        }
      ],
      "source": [
        "(all_labels_3, all_samples_3) = createData(numberSamplesPerClass = 2000, mean1 = [5,5], mean2 = [15, 15], stds1 = [4, 4], stds2 = [6, 6])"
      ]
    },
    {
      "cell_type": "markdown",
      "id": "8v1YQaW-4fgF",
      "metadata": {
        "id": "8v1YQaW-4fgF"
      },
      "source": [
        "## Comparar la tasa de aciertos de las distancias Manhattan y Euclidiana usando los datasets anteriores y K=7."
      ]
    },
    {
      "cell_type": "markdown",
      "id": "FnYtlDEU8wtU",
      "metadata": {
        "id": "FnYtlDEU8wtU"
      },
      "source": [
        "### Medias cercanas"
      ]
    },
    {
      "cell_type": "code",
      "execution_count": null,
      "id": "9Dt_pwm34uWk",
      "metadata": {
        "colab": {
          "base_uri": "https://localhost:8080/"
        },
        "id": "9Dt_pwm34uWk",
        "outputId": "5d935da7-7796-40a3-b728-7ad75fe54903"
      },
      "outputs": [
        {
          "name": "stdout",
          "output_type": "stream",
          "text": [
            "Hit rate Distancia Euclidiana:  tensor(89.4750)\n"
          ]
        }
      ],
      "source": [
        "predicted_euclidian = evaluate_k_nearest_neighbors_test_dataset(all_samples, all_labels, all_samples,  is_euclidian = True)\n",
        "print(\"Hit rate Distancia Euclidiana: \", calculate_hit_rate(predicted_euclidian, all_labels))"
      ]
    },
    {
      "cell_type": "code",
      "execution_count": null,
      "id": "dthlC-w_LpV4",
      "metadata": {
        "colab": {
          "base_uri": "https://localhost:8080/"
        },
        "id": "dthlC-w_LpV4",
        "outputId": "ea6c5f41-65ab-4911-c57e-9bfa96507c94"
      },
      "outputs": [
        {
          "name": "stdout",
          "output_type": "stream",
          "text": [
            "Hit rate Distancia Manhattan:  tensor(90.3250)\n"
          ]
        }
      ],
      "source": [
        "predicted_manhattan = evaluate_k_nearest_neighbors_test_dataset(all_samples, all_labels, all_samples,  is_euclidian = False)\n",
        "print(\"Hit rate Distancia Manhattan: \", calculate_hit_rate(predicted_manhattan, all_labels))"
      ]
    },
    {
      "cell_type": "markdown",
      "id": "VzHdTdeA8zWq",
      "metadata": {
        "id": "VzHdTdeA8zWq"
      },
      "source": [
        "### Medias lejanas"
      ]
    },
    {
      "cell_type": "code",
      "execution_count": null,
      "id": "AcLJpzBS82zw",
      "metadata": {
        "colab": {
          "base_uri": "https://localhost:8080/"
        },
        "id": "AcLJpzBS82zw",
        "outputId": "aee383e4-3039-475b-878e-b513b3e5b08d"
      },
      "outputs": [
        {
          "name": "stdout",
          "output_type": "stream",
          "text": [
            "Hit rate Distancia Euclidiana:  tensor(100.)\n"
          ]
        }
      ],
      "source": [
        "predicted_euclidian = evaluate_k_nearest_neighbors_test_dataset(all_samples_2, all_labels_2, all_samples_2,  is_euclidian = True)\n",
        "print(\"Hit rate Distancia Euclidiana: \", calculate_hit_rate(predicted_euclidian, all_labels_2))"
      ]
    },
    {
      "cell_type": "code",
      "execution_count": null,
      "id": "_kO0tVd886D8",
      "metadata": {
        "colab": {
          "base_uri": "https://localhost:8080/"
        },
        "id": "_kO0tVd886D8",
        "outputId": "8196f174-a0ef-44c9-8026-b982a83b1b9b"
      },
      "outputs": [
        {
          "name": "stdout",
          "output_type": "stream",
          "text": [
            "Hit rate Distancia Manhattan:  tensor(100.)\n"
          ]
        }
      ],
      "source": [
        "predicted_manhattan = evaluate_k_nearest_neighbors_test_dataset(all_samples_2, all_labels_2, all_samples_2,  is_euclidian = False)\n",
        "print(\"Hit rate Distancia Manhattan: \", calculate_hit_rate(predicted_manhattan, all_labels_2))"
      ]
    },
    {
      "cell_type": "markdown",
      "id": "OnIxzF3SBm1u",
      "metadata": {
        "id": "OnIxzF3SBm1u"
      },
      "source": [
        "### Medias lejanas con mayor desviación estándar"
      ]
    },
    {
      "cell_type": "code",
      "execution_count": null,
      "id": "Rzo7sCr0BhqW",
      "metadata": {
        "colab": {
          "base_uri": "https://localhost:8080/"
        },
        "id": "Rzo7sCr0BhqW",
        "outputId": "91aafed2-3cb3-42b6-953f-faff54f75337"
      },
      "outputs": [
        {
          "name": "stdout",
          "output_type": "stream",
          "text": [
            "Hit rate Distancia Euclidiana:  tensor(99.9250)\n"
          ]
        }
      ],
      "source": [
        "predicted_euclidian = evaluate_k_nearest_neighbors_test_dataset(all_samples_3, all_labels_3, all_samples_3,  is_euclidian = True)\n",
        "print(\"Hit rate Distancia Euclidiana: \", calculate_hit_rate(predicted_euclidian, all_labels_3))"
      ]
    },
    {
      "cell_type": "code",
      "execution_count": null,
      "id": "WWH6NuJMBhLo",
      "metadata": {
        "colab": {
          "base_uri": "https://localhost:8080/"
        },
        "id": "WWH6NuJMBhLo",
        "outputId": "92612ae5-9cb1-4cba-969c-cdaf026123e5"
      },
      "outputs": [
        {
          "name": "stdout",
          "output_type": "stream",
          "text": [
            "Hit rate Distancia Manhattan:  tensor(99.9500)\n"
          ]
        }
      ],
      "source": [
        "predicted_manhattan = evaluate_k_nearest_neighbors_test_dataset(all_samples_3, all_labels_3, all_samples_3,  is_euclidian = False)\n",
        "print(\"Hit rate Distancia Manhattan: \", calculate_hit_rate(predicted_manhattan, all_labels_3))"
      ]
    },
    {
      "cell_type": "markdown",
      "id": "3YZnFxmx6s7R",
      "metadata": {
        "id": "3YZnFxmx6s7R"
      },
      "source": [
        "# Prueba con datos segmentados."
      ]
    },
    {
      "cell_type": "code",
      "execution_count": null,
      "id": "5V0vXhQz8RO4",
      "metadata": {
        "colab": {
          "base_uri": "https://localhost:8080/"
        },
        "id": "5V0vXhQz8RO4",
        "outputId": "35e1a4a8-f57f-41bf-dce7-76731fe92f66"
      },
      "outputs": [
        {
          "name": "stdout",
          "output_type": "stream",
          "text": [
            "Ejecución: 1\n",
            "Datos distancia Euclidiana: \n",
            "Hit rate tensor(89.5000)\n",
            "Tiempo de ejecución:  56.41367244720459\n",
            "Datos distancia manhattan: \n",
            "Hit rate tensor(88.8333)\n",
            "Tiempo de ejecución:  43.628005027770996\n",
            "Ejecución: 2\n",
            "Datos distancia Euclidiana: \n",
            "Hit rate tensor(89.5000)\n",
            "Tiempo de ejecución:  56.50300717353821\n",
            "Datos distancia manhattan: \n",
            "Hit rate tensor(88.8333)\n",
            "Tiempo de ejecución:  43.52546286582947\n",
            "Ejecución: 3\n",
            "Datos distancia Euclidiana: \n",
            "Hit rate tensor(89.5000)\n",
            "Tiempo de ejecución:  56.41393446922302\n",
            "Datos distancia manhattan: \n",
            "Hit rate tensor(88.8333)\n",
            "Tiempo de ejecución:  43.51092720031738\n",
            "Ejecución: 4\n",
            "Datos distancia Euclidiana: \n",
            "Hit rate tensor(89.5000)\n",
            "Tiempo de ejecución:  56.472936153411865\n",
            "Datos distancia manhattan: \n",
            "Hit rate tensor(88.8333)\n",
            "Tiempo de ejecución:  43.50253891944885\n",
            "Ejecución: 5\n",
            "Datos distancia Euclidiana: \n",
            "Hit rate tensor(89.5000)\n",
            "Tiempo de ejecución:  56.411362409591675\n",
            "Datos distancia manhattan: \n",
            "Hit rate tensor(88.8333)\n",
            "Tiempo de ejecución:  43.657872438430786\n",
            "Ejecución: 6\n",
            "Datos distancia Euclidiana: \n",
            "Hit rate tensor(89.5000)\n",
            "Tiempo de ejecución:  56.30887317657471\n",
            "Datos distancia manhattan: \n",
            "Hit rate tensor(88.8333)\n",
            "Tiempo de ejecución:  43.40446972846985\n",
            "Ejecución: 7\n",
            "Datos distancia Euclidiana: \n",
            "Hit rate tensor(89.5000)\n",
            "Tiempo de ejecución:  56.47637367248535\n",
            "Datos distancia manhattan: \n",
            "Hit rate tensor(88.8333)\n",
            "Tiempo de ejecución:  43.551345348358154\n",
            "Ejecución: 8\n",
            "Datos distancia Euclidiana: \n",
            "Hit rate tensor(89.5000)\n",
            "Tiempo de ejecución:  56.32654857635498\n",
            "Datos distancia manhattan: \n",
            "Hit rate tensor(88.8333)\n",
            "Tiempo de ejecución:  43.432196617126465\n",
            "Ejecución: 9\n",
            "Datos distancia Euclidiana: \n",
            "Hit rate tensor(89.5000)\n",
            "Tiempo de ejecución:  56.43863892555237\n",
            "Datos distancia manhattan: \n",
            "Hit rate tensor(88.8333)\n",
            "Tiempo de ejecución:  43.382545709609985\n",
            "Ejecución: 10\n",
            "Datos distancia Euclidiana: \n",
            "Hit rate tensor(89.5000)\n",
            "Tiempo de ejecución:  56.62065386772156\n",
            "Datos distancia manhattan: \n",
            "Hit rate tensor(88.8333)\n",
            "Tiempo de ejecución:  43.69403791427612\n"
          ]
        }
      ],
      "source": [
        "# Listas para guardar los hit rates de cada una de las pruebas para las distancias.\n",
        "hit_rate_euList = []\n",
        "hit_rate_mathList = []\n",
        "\n",
        "\n",
        "for i in range(1, 11):\n",
        "\n",
        "  print(\"Ejecución: %s\" % (i))\n",
        "  # Separamos el dataset en train (70%) y test (30%).\n",
        "  X_train, X_test, y_train, y_test = train_test_split(all_samples, all_labels, test_size=0.30, random_state=42)\n",
        "\n",
        "   # Inicio ejecución distancia Euclidiana.\n",
        "  start_time = time.time()\n",
        "  # Calcular labels:\n",
        "  labels_predict = evaluate_k_nearest_neighbors_test_dataset(X_train, y_train, X_test,  is_euclidian = True)\n",
        "  # Calcular hit rate.\n",
        "  hit_rate = calculate_hit_rate(labels_predict, y_test)\n",
        "  hit_rate_euList.append(hit_rate)\n",
        "  # Fin ejecución distancia Euclidiana.\n",
        "  time_exc = time.time() - start_time\n",
        "  #  Imprimir datos.\n",
        "  print(\"Datos distancia Euclidiana: \")\n",
        "  print(\"Hit rate\", hit_rate)\n",
        "  print(\"Tiempo de ejecución: \", time_exc)\n",
        "\n",
        "  # Inicio ejecución distancia Manhattan.\n",
        "  start_time = time.time()\n",
        "  # Calcular labels:\n",
        "  labels_predict = evaluate_k_nearest_neighbors_test_dataset(X_train, y_train, X_test,  is_euclidian = False)\n",
        "  # Calcular hit rate.\n",
        "  hit_rate = calculate_hit_rate(labels_predict, y_test)\n",
        "  hit_rate_mathList.append(hit_rate)\n",
        "  # Fin ejecución distancia Manhattan.\n",
        "  time_exc = time.time() - start_time\n",
        "  #  Imprimir datos.\n",
        "  print(\"Datos distancia manhattan: \")\n",
        "  print(\"Hit rate\", hit_rate)\n",
        "  print(\"Tiempo de ejecución: \", time_exc)"
      ]
    },
    {
      "cell_type": "markdown",
      "id": "Fy9NZrkEzISO",
      "metadata": {
        "id": "Fy9NZrkEzISO"
      },
      "source": [
        "## Medias y desviación estándar de hit rate"
      ]
    },
    {
      "cell_type": "markdown",
      "id": "6hhi3PkQzq6V",
      "metadata": {
        "id": "6hhi3PkQzq6V"
      },
      "source": [
        "### Distancia euclidiana"
      ]
    },
    {
      "cell_type": "code",
      "execution_count": null,
      "id": "YfO4i-pizLqV",
      "metadata": {
        "colab": {
          "base_uri": "https://localhost:8080/"
        },
        "id": "YfO4i-pizLqV",
        "outputId": "7bf52e4d-04a0-4ce3-93f8-002fe96493c6"
      },
      "outputs": [
        {
          "name": "stdout",
          "output_type": "stream",
          "text": [
            "Desviación estándar tensor(8.0421e-06)\n",
            "Desviación estándar tensor(89.5000)\n"
          ]
        }
      ],
      "source": [
        "eu_std = torch.std(torch.tensor(hit_rate_euList))\n",
        "print(\"Desviación estándar\", mt_std)\n",
        "\n",
        "eu_mean = torch.mean(torch.tensor(hit_rate_euList))\n",
        "print(\"Media\", eu_mean)"
      ]
    },
    {
      "cell_type": "markdown",
      "id": "Qm-WGwSa0W-x",
      "metadata": {
        "id": "Qm-WGwSa0W-x"
      },
      "source": [
        "# Distancia Manhattan"
      ]
    },
    {
      "cell_type": "code",
      "execution_count": null,
      "id": "6cRgmOuS0Wx7",
      "metadata": {
        "colab": {
          "base_uri": "https://localhost:8080/"
        },
        "id": "6cRgmOuS0Wx7",
        "outputId": "13feff19-9315-4401-de88-8d04d196eea2"
      },
      "outputs": [
        {
          "name": "stdout",
          "output_type": "stream",
          "text": [
            "Desviación estándar tensor(8.0421e-06)\n",
            "Desviación estándar tensor(88.8333)\n"
          ]
        }
      ],
      "source": [
        "mt_std = torch.std(torch.tensor(hit_rate_mathList))\n",
        "print(\"Desviación estándar\", mt_std)\n",
        "\n",
        "mt_mean = torch.mean(torch.tensor(hit_rate_mathList))\n",
        "print(\"Media\", mt_mean)"
      ]
    },
    {
      "cell_type": "code",
      "execution_count": null,
      "id": "vOssi-s_0nmt",
      "metadata": {
        "id": "vOssi-s_0nmt"
      },
      "outputs": [],
      "source": []
    }
  ],
  "metadata": {
    "colab": {
      "provenance": []
    },
    "kernelspec": {
      "display_name": "Python 3 (ipykernel)",
      "language": "python",
      "name": "python3"
    },
    "language_info": {
      "codemirror_mode": {
        "name": "ipython",
        "version": 3
      },
      "file_extension": ".py",
      "mimetype": "text/x-python",
      "name": "python",
      "nbconvert_exporter": "python",
      "pygments_lexer": "ipython3",
      "version": "3.9.7"
    }
  },
  "nbformat": 4,
  "nbformat_minor": 5
}
